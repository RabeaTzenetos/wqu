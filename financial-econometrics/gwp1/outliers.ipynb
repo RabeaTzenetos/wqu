{
 "cells": [
  {
   "cell_type": "markdown",
   "metadata": {},
   "source": [
    "# Best-Practices Handbook - Skewness\n",
    "\n",
    "**Requirements**\n",
    "1. Definition: Technical definition using formulas or equations ( Copy paste from\n",
    "external sources with or without acknowledging the source is not ok. The\n",
    "language should be your own. Turnitin will detect blocks of copy-pasted text)\n",
    "2. Description: Written explanation (1–2 sentences)\n",
    "3. Demonstration: Numerical example using either real-world data or simulated\n",
    "data. Real-world data is likely more interesting, but simulated data allows us to\n",
    "concentrate on the issues in isolation and thus create clear examples of what\n",
    "happens.\n",
    "3. Diagram: Visual example using the real-world data or simulated data that were\n",
    "utilized in the Demonstration.\n",
    "4. Diagnosis: Describe how to recognize or test that the problem exists\n",
    "5. Damage: Clear statement of the damaged caused by the problem\n",
    "6. Directions: Suggested models or methodologies that can address the particular\n",
    "issue(s) you considered."
   ]
  },
  {
   "cell_type": "markdown",
   "metadata": {},
   "source": []
  }
 ],
 "metadata": {
  "language_info": {
   "name": "python"
  }
 },
 "nbformat": 4,
 "nbformat_minor": 2
}
