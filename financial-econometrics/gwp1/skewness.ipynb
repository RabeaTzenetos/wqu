{
 "cells": [
  {
   "cell_type": "markdown",
   "metadata": {},
   "source": [
    "# Best-Practices Handbook - Skewness\n",
    "\n",
    "**Requirements**\n",
    "1. Definition: Technical definition using formulas or equations ( Copy paste from\n",
    "external sources with or without acknowledging the source is not ok. The\n",
    "language should be your own. Turnitin will detect blocks of copy-pasted text)\n",
    "2. Description: Written explanation (1–2 sentences)\n",
    "3. Demonstration: Numerical example using either real-world data or simulated\n",
    "data. Real-world data is likely more interesting, but simulated data allows us to\n",
    "concentrate on the issues in isolation and thus create clear examples of what\n",
    "happens.\n",
    "3. Diagram: Visual example using the real-world data or simulated data that were\n",
    "utilized in the Demonstration.\n",
    "4. Diagnosis: Describe how to recognize or test that the problem exists\n",
    "5. Damage: Clear statement of the damaged caused by the problem\n",
    "6. Directions: Suggested models or methodologies that can address the particular\n",
    "issue(s) you considered."
   ]
  },
  {
   "cell_type": "markdown",
   "metadata": {},
   "source": [
    "### Definition"
   ]
  },
  {
   "cell_type": "markdown",
   "metadata": {},
   "source": [
    "Skewness is a measure that describes the shape of a (probability) distribution. Specifically, it's a measure of assymetry of the data points that form the distribution. Assymetric distributions can be left-skewed negative) or right-skewed (positive). A symmetric distribution has a skew of zero and is a normal distribution. \n",
    "\n",
    "A left-skewed distribution is characterised by a longer or fatter tail on the left side of the distribution, while a right-skewed distribution shows a longer of fatter tail on the right side of the distribution (Chen, 2024). \n",
    "\n",
    "Other than the visual inspection of the distribution or data histogram, one can also determine skewness by studying the mean and median of a distribution. When data has a right-skew (positive), the mean value is larger than the median value. The opposite is true for a left-skewed distribution where the mean value is smaller than the median value (Chen, 2021).\n",
    "\n",
    "There are two main methods for measuring skewness. Pearson's first skewness coeffcient measures the mode skewness, Pearson's second skewness coefficient measures the median skewness (Taylor, as of 2024). Which skewness we want to use depends on the data sample. If the data has a strong (as in clearly defined) mode, Pearson's first coefficient is preferred, but if the data has a weak or multiple modes, Pearson's second coefficient might be a better measure (Chen, 2024).\n",
    "\n",
    "The formulas for both are below:\n",
    "$$\n",
    "\\text{Pearson's first coefficient of skewness} = \\frac{3*(\\text{Mean} - \\text{Median})}{\\text{Standard Deviation}}\n",
    "$$\n",
    "\n",
    "$$\n",
    "\\text{Pearson's second coefficient of skewness} = \\frac{(\\text{Mean} - \\text{Mode})}{\\text{Standard Deviation}}\n",
    "$$"
   ]
  },
  {
   "cell_type": "markdown",
   "metadata": {},
   "source": [
    "### Description"
   ]
  },
  {
   "cell_type": "markdown",
   "metadata": {},
   "source": [
    "..."
   ]
  },
  {
   "cell_type": "markdown",
   "metadata": {},
   "source": [
    "### Demonstration"
   ]
  },
  {
   "cell_type": "code",
   "execution_count": null,
   "metadata": {
    "vscode": {
     "languageId": "plaintext"
    }
   },
   "outputs": [],
   "source": []
  },
  {
   "cell_type": "markdown",
   "metadata": {},
   "source": [
    "### Diagram"
   ]
  },
  {
   "cell_type": "markdown",
   "metadata": {},
   "source": []
  },
  {
   "cell_type": "markdown",
   "metadata": {},
   "source": [
    "### Diagnosis"
   ]
  },
  {
   "cell_type": "markdown",
   "metadata": {},
   "source": []
  },
  {
   "cell_type": "markdown",
   "metadata": {},
   "source": [
    "### Damage"
   ]
  },
  {
   "cell_type": "markdown",
   "metadata": {},
   "source": []
  },
  {
   "cell_type": "markdown",
   "metadata": {},
   "source": [
    "### Directions"
   ]
  },
  {
   "cell_type": "markdown",
   "metadata": {},
   "source": []
  },
  {
   "cell_type": "markdown",
   "metadata": {},
   "source": [
    "### References\n",
    "1. Chen, James. \"Right Skewed vs. Left Skewed Distribution.\", 6 Mar. 2024, www.investopedia.com/terms/s/skewness.asp#:~:text=Skewness%20is%20the%20degree%20of,or%20negative%20and%20left%2Dskewed.\n",
    "2. Taylor, Sebastian. \"Skewness - A measure of the deviation of a random variable's given distribution from the normal distribution.\", corporatefinanceinstitute.com/resources/data-science/skewness/."
   ]
  },
  {
   "cell_type": "markdown",
   "metadata": {},
   "source": []
  }
 ],
 "metadata": {
  "language_info": {
   "name": "python"
  }
 },
 "nbformat": 4,
 "nbformat_minor": 2
}
